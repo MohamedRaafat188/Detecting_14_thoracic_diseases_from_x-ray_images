{
 "cells": [
  {
   "cell_type": "code",
   "execution_count": 1,
   "metadata": {},
   "outputs": [],
   "source": [
    "from pathlib import Path\n",
    "import numpy as np\n",
    "import pandas as pd\n",
    "import cv2\n",
    "from tqdm.notebook import tqdm"
   ]
  },
  {
   "cell_type": "code",
   "execution_count": 2,
   "metadata": {},
   "outputs": [],
   "source": [
    "root_path = Path(\"../all_images/\")\n",
    "save_path = Path(\"processed_images\")"
   ]
  },
  {
   "cell_type": "code",
   "execution_count": 3,
   "metadata": {},
   "outputs": [],
   "source": [
    "train_df = pd.read_csv(\"train_csv.csv\")\n",
    "valid_df = pd.read_csv(\"valid_csv.csv\")\n"
   ]
  },
  {
   "cell_type": "code",
   "execution_count": 4,
   "metadata": {},
   "outputs": [
    {
     "data": {
      "application/vnd.jupyter.widget-view+json": {
       "model_id": "24d90c39a2944b25998c6505d041dbe8",
       "version_major": 2,
       "version_minor": 0
      },
      "text/plain": [
       "HBox(children=(HTML(value=''), FloatProgress(value=0.0, max=46583.0), HTML(value='')))"
      ]
     },
     "metadata": {},
     "output_type": "display_data"
    },
    {
     "name": "stdout",
     "output_type": "stream",
     "text": [
      "\n"
     ]
    }
   ],
   "source": [
    "# Process train images\n",
    "sums, sums_squared = 0, 0\n",
    "\n",
    "for i, image in enumerate(tqdm(train_df[\"Image Index\"])):\n",
    "    image_name = train_df[\"Image Index\"].iloc[i]\n",
    "    image_path = root_path/image_name\n",
    "\n",
    "    image_array = cv2.imread(str(image_path))\n",
    "    image_array = cv2.cvtColor(image_array, cv2.COLOR_BGR2GRAY)\n",
    "    image_array = image_array / 255\n",
    "\n",
    "    image_array = cv2.resize(image_array, (224, 224)).astype(np.float16)\n",
    "\n",
    "    current_save_path = save_path/\"train\"\n",
    "    current_save_path.mkdir(parents=True, exist_ok=True)\n",
    "    np.save(current_save_path/image_name[:-4], image_array)\n",
    "\n",
    "    normalizer = 224 ** 2\n",
    "\n",
    "    sums = sums + np.sum(image_array) / normalizer\n",
    "    sums_squared += np.sum(image_array ** 2) / normalizer\n"
   ]
  },
  {
   "cell_type": "code",
   "execution_count": 5,
   "metadata": {},
   "outputs": [
    {
     "data": {
      "text/plain": [
       "(0.4899860123903334, 0.24823925322400858)"
      ]
     },
     "execution_count": 5,
     "metadata": {},
     "output_type": "execute_result"
    }
   ],
   "source": [
    "# Calculate mean and std for the training images\n",
    "mean = sums / 46583\n",
    "std = np.sqrt((sums_squared / 46583) - mean ** 2)  # type: ignore\n",
    "\n",
    "mean, std\n"
   ]
  },
  {
   "cell_type": "code",
   "execution_count": 6,
   "metadata": {},
   "outputs": [
    {
     "data": {
      "application/vnd.jupyter.widget-view+json": {
       "model_id": "95abd92f0bf049549fa599bbbfe8a976",
       "version_major": 2,
       "version_minor": 0
      },
      "text/plain": [
       "HBox(children=(HTML(value=''), FloatProgress(value=0.0, max=5176.0), HTML(value='')))"
      ]
     },
     "metadata": {},
     "output_type": "display_data"
    },
    {
     "name": "stdout",
     "output_type": "stream",
     "text": [
      "\n"
     ]
    }
   ],
   "source": [
    "# process validation images\n",
    "\n",
    "for i, image in enumerate(tqdm(valid_df[\"Image Index\"])):\n",
    "    image_name = valid_df[\"Image Index\"].iloc[i]\n",
    "    image_path = root_path/image_name\n",
    "\n",
    "    image_array = cv2.imread(str(image_path))\n",
    "    image_array = cv2.cvtColor(image_array, cv2.COLOR_BGR2GRAY)\n",
    "    image_array = image_array / 255\n",
    "\n",
    "    image_array = cv2.resize(image_array, (224, 224)).astype(np.float16)\n",
    "\n",
    "    current_save_path = save_path/\"valid\"\n",
    "    current_save_path.mkdir(parents=True, exist_ok=True)\n",
    "    np.save(current_save_path/image_name[:-4], image_array)\n"
   ]
  }
 ],
 "metadata": {
  "kernelspec": {
   "display_name": "Python 3.8.5 ('base')",
   "language": "python",
   "name": "python3"
  },
  "language_info": {
   "codemirror_mode": {
    "name": "ipython",
    "version": 3
   },
   "file_extension": ".py",
   "mimetype": "text/x-python",
   "name": "python",
   "nbconvert_exporter": "python",
   "pygments_lexer": "ipython3",
   "version": "3.8.5"
  },
  "orig_nbformat": 4,
  "vscode": {
   "interpreter": {
    "hash": "a077222d77dfe082b8f1dd562ad70e458ac2ab76993a0b248ab0476e32e9e8dd"
   }
  }
 },
 "nbformat": 4,
 "nbformat_minor": 2
}
